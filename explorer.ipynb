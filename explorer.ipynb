{
 "cells": [
  {
   "cell_type": "code",
   "execution_count": 1,
   "metadata": {},
   "outputs": [],
   "source": [
    "from core.logger import log_setup\n",
    "log_setup()\n",
    "\n",
    "\n",
    "from Config import Config\n",
    "import logging\n",
    "from data_sources.github_linguist import fetch_github_linguist\n",
    "\n",
    "log = logging.getLogger(__name__)\n",
    "config = Config()"
   ]
  },
  {
   "cell_type": "code",
   "execution_count": 20,
   "metadata": {},
   "outputs": [
    {
     "name": "stderr",
     "output_type": "stream",
     "text": [
      "04-08-25 20:20:25 data_sources.github_linguist: DEBUG - Reading github-linguist YAML from cache.\n"
     ]
    },
    {
     "name": "stdout",
     "output_type": "stream",
     "text": [
      "C\n",
      "C#\n",
      "C++\n",
      "C-ObjDump\n",
      "C2hs Haskell\n",
      "CAP CDS\n",
      "CIL\n",
      "CLIPS\n",
      "CMake\n",
      "COBOL\n",
      "CODEOWNERS\n",
      "COLLADA\n",
      "CSON\n",
      "CSS\n",
      "CSV\n",
      "CUE\n",
      "CWeb\n",
      "Cabal Config\n",
      "Caddyfile\n",
      "Cadence\n",
      "Cairo\n",
      "Cairo Zero\n",
      "CameLIGO\n",
      "Cap'n Proto\n",
      "Carbon\n",
      "CartoCSS\n",
      "Ceylon\n",
      "Chapel\n",
      "Charity\n",
      "Checksums\n",
      "ChucK\n",
      "Circom\n",
      "Cirru\n",
      "Clarion\n",
      "Clarity\n",
      "Classic ASP\n",
      "Clean\n",
      "Click\n",
      "Clojure\n",
      "Closure Templates\n",
      "Cloud Firestore Security Rules\n",
      "CoNLL-U\n",
      "CodeQL\n",
      "CoffeeScript\n",
      "ColdFusion\n",
      "ColdFusion CFC\n",
      "Common Lisp\n",
      "Common Workflow Language\n",
      "Component Pascal\n",
      "Cool\n",
      "Coq\n",
      "Cpp-ObjDump\n",
      "Creole\n",
      "Crystal\n",
      "Csound\n",
      "Csound Document\n",
      "Csound Score\n",
      "Cuda\n",
      "Cue Sheet\n",
      "Curry\n",
      "Cycript\n",
      "Cylc\n",
      "Cypher\n",
      "Cython\n"
     ]
    }
   ],
   "source": [
    "for x, y in fetch_github_linguist().items():\n",
    "    if x.startswith('C'):\n",
    "        print(x)"
   ]
  },
  {
   "cell_type": "code",
   "execution_count": null,
   "metadata": {},
   "outputs": [],
   "source": []
  }
 ],
 "metadata": {
  "kernelspec": {
   "display_name": "base",
   "language": "python",
   "name": "python3"
  },
  "language_info": {
   "codemirror_mode": {
    "name": "ipython",
    "version": 3
   },
   "file_extension": ".py",
   "mimetype": "text/x-python",
   "name": "python",
   "nbconvert_exporter": "python",
   "pygments_lexer": "ipython3",
   "version": "3.12.2"
  }
 },
 "nbformat": 4,
 "nbformat_minor": 2
}
