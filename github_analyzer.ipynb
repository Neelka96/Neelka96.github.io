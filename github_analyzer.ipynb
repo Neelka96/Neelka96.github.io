{
 "cells": [
  {
   "cell_type": "code",
   "execution_count": 22,
   "metadata": {},
   "outputs": [],
   "source": [
    "import requests\n",
    "from bs4 import BeautifulSoup as bs"
   ]
  },
  {
   "cell_type": "code",
   "execution_count": 44,
   "metadata": {},
   "outputs": [],
   "source": [
    "url = 'https://github.com/Neelka96?tab=repositories'\n",
    "response = requests.get(url)\n",
    "soup = bs(response.content, 'html.parser')"
   ]
  },
  {
   "cell_type": "code",
   "execution_count": null,
   "metadata": {},
   "outputs": [],
   "source": [
    "repos = soup.find_all(attrs = {'itemprop': 'name codeRepository'})"
   ]
  },
  {
   "cell_type": "code",
   "execution_count": 73,
   "metadata": {},
   "outputs": [],
   "source": [
    "links = [repo.get_attribute_list('href')[0] for repo in repos]\n",
    "links = [f'https://github.com{link}' for link in links]"
   ]
  },
  {
   "cell_type": "code",
   "execution_count": null,
   "metadata": {},
   "outputs": [
    {
     "data": {
      "text/plain": [
       "['https://github.com/Neelka96/README-mgmt',\n",
       " 'https://github.com/Neelka96/belly-button-challenge',\n",
       " 'https://github.com/Neelka96/Neelka96.github.io',\n",
       " 'https://github.com/Neelka96/Crowdfunding_ETL',\n",
       " 'https://github.com/Neelka96/nosql-challenge',\n",
       " 'https://github.com/Neelka96/webscraper-challenge',\n",
       " 'https://github.com/Neelka96/HavocMapper',\n",
       " 'https://github.com/Neelka96/sqlalchemy-challenge',\n",
       " 'https://github.com/Neelka96/sql-challenge',\n",
       " 'https://github.com/Neelka96/python-api-challenge',\n",
       " 'https://github.com/Neelka96/matplotlib-challenge',\n",
       " 'https://github.com/Neelka96/python-challenge',\n",
       " 'https://github.com/Neelka96/pandas-challenge',\n",
       " 'https://github.com/Neelka96/VBA-challenge']"
      ]
     },
     "execution_count": 74,
     "metadata": {},
     "output_type": "execute_result"
    }
   ],
   "source": []
  },
  {
   "cell_type": "code",
   "execution_count": null,
   "metadata": {},
   "outputs": [],
   "source": []
  }
 ],
 "metadata": {
  "kernelspec": {
   "display_name": "base",
   "language": "python",
   "name": "python3"
  },
  "language_info": {
   "codemirror_mode": {
    "name": "ipython",
    "version": 3
   },
   "file_extension": ".py",
   "mimetype": "text/x-python",
   "name": "python",
   "nbconvert_exporter": "python",
   "pygments_lexer": "ipython3",
   "version": "3.12.2"
  }
 },
 "nbformat": 4,
 "nbformat_minor": 2
}
