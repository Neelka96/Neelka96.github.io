{
 "cells": [
  {
   "cell_type": "code",
   "execution_count": 2,
   "metadata": {},
   "outputs": [],
   "source": [
    "from github import Github, Auth\n",
    "from dotenv import load_dotenv\n",
    "import os"
   ]
  },
  {
   "cell_type": "code",
   "execution_count": 3,
   "metadata": {},
   "outputs": [],
   "source": [
    "load_dotenv()\n",
    "GIT_TOKEN = os.environ.get('GIT_TOKEN')\n",
    "auth = Auth.Token(GIT_TOKEN)\n",
    "gh = Github(auth = auth)"
   ]
  },
  {
   "cell_type": "code",
   "execution_count": null,
   "metadata": {},
   "outputs": [
    {
     "data": {
      "text/plain": [
       "126327"
      ]
     },
     "execution_count": 14,
     "metadata": {},
     "output_type": "execute_result"
    }
   ],
   "source": [
    "gh.get_user().name\n",
    "gh.get_user().email\n",
    "gh.get_user().bio"
   ]
  },
  {
   "cell_type": "code",
   "execution_count": 22,
   "metadata": {},
   "outputs": [],
   "source": [
    "from pprint import pprint"
   ]
  },
  {
   "cell_type": "code",
   "execution_count": null,
   "metadata": {},
   "outputs": [
    {
     "name": "stdout",
     "output_type": "stream",
     "text": [
      "WorkflowRun(url=None, id=13862240733)\n",
      "WorkflowRun(url=None, id=13861587077)\n",
      "WorkflowRun(url=None, id=13828840351)\n",
      "WorkflowRun(url=None, id=13828834023)\n",
      "WorkflowRun(url=None, id=13828424520)\n",
      "WorkflowRun(url=None, id=13828419727)\n",
      "WorkflowRun(url=None, id=13828306343)\n",
      "WorkflowRun(url=None, id=13827724224)\n",
      "WorkflowRun(url=None, id=13827656050)\n",
      "WorkflowRun(url=None, id=13827535866)\n",
      "WorkflowRun(url=None, id=13826985551)\n",
      "WorkflowRun(url=None, id=13826932287)\n"
     ]
    }
   ],
   "source": [
    "# id\n",
    "# size\n",
    "# language/languages_url (even better with lines)\n",
    "# topics\n",
    "# tags\n",
    "# name\n",
    "# homepage\n",
    "# contributors_url\n",
    "# deployments_url\n",
    "# ssh_url/html_url (remember to add .git to the end of html_url)\n",
    "# created_at/pushed_at\n",
    "# description\n",
    "# clone_url\n",
    "# NULLS: forks/forks_count/has_discussions/license/stargazers_count/watchers/watchers_count/subscribers_count/subscribers_url/topics/\n",
    "# .get_readme()\n",
    "# .get_artifacts() or .get_artifact (.size_in_bytes) --> \"Workflow runs technically\"\n",
    "for r in gh.get_user().get_repos():\n",
    "    # print(r.name)\n",
    "    for x in r.get_artifacts():\n",
    "        print(x.workflow_run)\n",
    "    break\n"
   ]
  },
  {
   "cell_type": "code",
   "execution_count": null,
   "metadata": {},
   "outputs": [],
   "source": [
    "import requests\n",
    "from bs4 import BeautifulSoup as bs\n",
    "from pprint import pprint"
   ]
  },
  {
   "cell_type": "code",
   "execution_count": 3,
   "metadata": {},
   "outputs": [],
   "source": [
    "url = 'https://github.com/Neelka96?tab=repositories'\n",
    "response = requests.get(url)\n",
    "soup = bs(response.content, 'html.parser')"
   ]
  },
  {
   "cell_type": "code",
   "execution_count": 4,
   "metadata": {},
   "outputs": [],
   "source": [
    "repos = soup.find_all(attrs = {'itemprop': 'name codeRepository'})"
   ]
  },
  {
   "cell_type": "code",
   "execution_count": 5,
   "metadata": {},
   "outputs": [],
   "source": [
    "links = [repo.get_attribute_list('href')[0] for repo in repos]\n",
    "links = [f'https://github.com{link}' for link in links]"
   ]
  },
  {
   "cell_type": "code",
   "execution_count": 6,
   "metadata": {},
   "outputs": [],
   "source": [
    "soups = [bs(requests.get(link).content, 'html.parser') for link in links]"
   ]
  },
  {
   "cell_type": "code",
   "execution_count": 7,
   "metadata": {},
   "outputs": [
    {
     "name": "stdout",
     "output_type": "stream",
     "text": [
      "GitHub - Neelka96/Neelka96.github.io: Application to scrape my own github and create a dashboard\n",
      "GitHub - Neelka96/README-mgmt: Management container for readmes and readme scripts\n",
      "GitHub - Neelka96/belly-button-challenge: DataViz Module 14 JavaScript Challenge\n",
      "GitHub - Neelka96/Crowdfunding_ETL: Data Viz Project 2\n",
      "GitHub - Neelka96/nosql-challenge: DataViz Module 12 NoSQL Challenge\n",
      "GitHub - Neelka96/webscraper-challenge: DataClass Module 11 Webscaping Challenge (Beautiful Soup, Splinter)\n",
      "GitHub - Neelka96/HavocMapper: Data Visualization Project 1 Shared Repo\n",
      "GitHub - Neelka96/sqlalchemy-challenge: Module 10 SQL Alchemy Challenge\n",
      "GitHub - Neelka96/sql-challenge: DataClass Module 9 SQL\n",
      "GitHub - Neelka96/python-api-challenge: DataClass Module 6 APIs (Python) WeatherPy\n",
      "GitHub - Neelka96/matplotlib-challenge: DataClass Module 5 Matplotlib Pharmaceutical Analysis\n",
      "GitHub - Neelka96/python-challenge: DataViz - 3rd Module (PyBank, PyPoll)\n",
      "GitHub - Neelka96/pandas-challenge: DataClass Module 4 Pandas DataFrame Analysis\n",
      "GitHub - Neelka96/VBA-challenge: DataClass - 2nd Module Challenge\n"
     ]
    },
    {
     "data": {
      "text/plain": [
       "[None,\n",
       " None,\n",
       " None,\n",
       " None,\n",
       " None,\n",
       " None,\n",
       " None,\n",
       " None,\n",
       " None,\n",
       " None,\n",
       " None,\n",
       " None,\n",
       " None,\n",
       " None]"
      ]
     },
     "execution_count": 7,
     "metadata": {},
     "output_type": "execute_result"
    }
   ],
   "source": [
    "[print(soup.title.text) for soup in soups]"
   ]
  },
  {
   "cell_type": "code",
   "execution_count": 8,
   "metadata": {},
   "outputs": [],
   "source": [
    "title = soups[0].title.text\n",
    "\n",
    "sideBar = (\n",
    "    soups[0]\n",
    "        .find('div', attrs = {'class', 'Layout-sidebar'})\n",
    "        .find_all('div', attrs = {'class', 'BorderGrid-cell'})\n",
    ")\n",
    "\n",
    "# 'About' section\n",
    "def read_aboutSection(section, icon_name):\n",
    "    attribute = {'class': f'octicon octicon-{icon_name} mr-2'}\n",
    "    value = int(section\n",
    "        .find('svg', attrs = attribute)\n",
    "        .find_parent('a')\n",
    "        .find('strong')\n",
    "        .text\n",
    "    )\n",
    "    return value\n",
    "\n",
    "aboutTab = sideBar[0].find('div')\n",
    "stars = read_aboutSection(aboutTab, 'star')\n",
    "watching = read_aboutSection(aboutTab, 'eye')\n",
    "forks = read_aboutSection(aboutTab, 'repo-forked')\n",
    "about_df = {\n",
    "    'Stars': stars\n",
    "    ,'Watching': watching\n",
    "    ,'Forks': forks\n",
    "}\n",
    "\n",
    "languages = sideBar[4].find('ul')\n",
    "languages = [[span.text for span in lang.find_all('span')] for lang in languages.find_all('li')]\n",
    "language_df = {\n",
    "    'Languages': [name for name, _ in languages],\n",
    "    '% Used': [cent for _, cent in languages]\n",
    "}\n",
    "\n"
   ]
  },
  {
   "cell_type": "code",
   "execution_count": 19,
   "metadata": {},
   "outputs": [],
   "source": [
    "# Testing with different project\n",
    "sideBar = (\n",
    "    soups[2]\n",
    "        .find('div', attrs = {'class', 'Layout-sidebar'})\n",
    "        .find_all('div', attrs = {'class', 'BorderGrid-cell'})\n",
    ")\n",
    "\n",
    "releases = sideBar[1]\n",
    "# Shortcut for now while there are no releases\n",
    "releaseText = releases.find('div').text\n",
    "\n",
    "if releaseText == 'No releases published':\n",
    "    releaseCount = 0\n",
    "else:\n",
    "    releaseCount = int(releaseText)"
   ]
  },
  {
   "cell_type": "code",
   "execution_count": 20,
   "metadata": {},
   "outputs": [
    {
     "data": {
      "text/plain": [
       "0"
      ]
     },
     "execution_count": 20,
     "metadata": {},
     "output_type": "execute_result"
    }
   ],
   "source": [
    "releaseCount"
   ]
  },
  {
   "cell_type": "code",
   "execution_count": null,
   "metadata": {},
   "outputs": [],
   "source": []
  },
  {
   "cell_type": "code",
   "execution_count": null,
   "metadata": {},
   "outputs": [],
   "source": []
  }
 ],
 "metadata": {
  "kernelspec": {
   "display_name": "base",
   "language": "python",
   "name": "python3"
  },
  "language_info": {
   "codemirror_mode": {
    "name": "ipython",
    "version": 3
   },
   "file_extension": ".py",
   "mimetype": "text/x-python",
   "name": "python",
   "nbconvert_exporter": "python",
   "pygments_lexer": "ipython3",
   "version": "3.12.2"
  }
 },
 "nbformat": 4,
 "nbformat_minor": 2
}
