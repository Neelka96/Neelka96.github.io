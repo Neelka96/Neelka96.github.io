{
 "cells": [
  {
   "cell_type": "code",
   "execution_count": 30,
   "metadata": {},
   "outputs": [],
   "source": [
    "import requests\n",
    "from bs4 import BeautifulSoup as bs\n",
    "from pprint import pprint"
   ]
  },
  {
   "cell_type": "code",
   "execution_count": 3,
   "metadata": {},
   "outputs": [],
   "source": [
    "url = 'https://github.com/Neelka96?tab=repositories'\n",
    "response = requests.get(url)\n",
    "soup = bs(response.content, 'html.parser')"
   ]
  },
  {
   "cell_type": "code",
   "execution_count": 4,
   "metadata": {},
   "outputs": [],
   "source": [
    "repos = soup.find_all(attrs = {'itemprop': 'name codeRepository'})"
   ]
  },
  {
   "cell_type": "code",
   "execution_count": 5,
   "metadata": {},
   "outputs": [],
   "source": [
    "links = [repo.get_attribute_list('href')[0] for repo in repos]\n",
    "links = [f'https://github.com{link}' for link in links]"
   ]
  },
  {
   "cell_type": "code",
   "execution_count": null,
   "metadata": {},
   "outputs": [],
   "source": [
    "soups = [bs(requests.get(link).content, 'html.parser') for link in links]"
   ]
  },
  {
   "cell_type": "code",
   "execution_count": 183,
   "metadata": {},
   "outputs": [
    {
     "name": "stdout",
     "output_type": "stream",
     "text": [
      "GitHub - Neelka96/Neelka96.github.io: Application to scrape my own github and create a dashboard\n",
      "GitHub - Neelka96/README-mgmt: Management container for readmes and readme scripts\n",
      "GitHub - Neelka96/belly-button-challenge: DataViz Module 14 JavaScript Challenge\n",
      "GitHub - Neelka96/Crowdfunding_ETL: Data Viz Project 2\n",
      "GitHub - Neelka96/nosql-challenge: DataViz Module 12 NoSQL Challenge\n",
      "GitHub - Neelka96/webscraper-challenge: DataClass Module 11 Webscaping Challenge (Beautiful Soup, Splinter)\n",
      "GitHub - Neelka96/HavocMapper: Data Visualization Project 1 Shared Repo\n",
      "GitHub - Neelka96/sqlalchemy-challenge: Module 10 SQL Alchemy Challenge\n",
      "GitHub - Neelka96/sql-challenge: DataClass Module 9 SQL\n",
      "GitHub - Neelka96/python-api-challenge: DataClass Module 6 APIs (Python) WeatherPy\n",
      "GitHub - Neelka96/matplotlib-challenge: DataClass Module 5 Matplotlib Pharmaceutical Analysis\n",
      "GitHub - Neelka96/python-challenge: DataViz - 3rd Module (PyBank, PyPoll)\n",
      "GitHub - Neelka96/pandas-challenge: DataClass Module 4 Pandas DataFrame Analysis\n",
      "GitHub - Neelka96/VBA-challenge: DataClass - 2nd Module Challenge\n"
     ]
    },
    {
     "data": {
      "text/plain": [
       "[None,\n",
       " None,\n",
       " None,\n",
       " None,\n",
       " None,\n",
       " None,\n",
       " None,\n",
       " None,\n",
       " None,\n",
       " None,\n",
       " None,\n",
       " None,\n",
       " None,\n",
       " None]"
      ]
     },
     "execution_count": 183,
     "metadata": {},
     "output_type": "execute_result"
    }
   ],
   "source": [
    "[print(soup.title.text) for soup in soups]"
   ]
  },
  {
   "cell_type": "code",
   "execution_count": null,
   "metadata": {},
   "outputs": [],
   "source": [
    "title = soups[0].title.text\n",
    "\n",
    "sideBar = (\n",
    "    soups[0]\n",
    "        .find('div', attrs = {'class', 'Layout-sidebar'})\n",
    "        .find_all('div', attrs = {'class', 'BorderGrid-cell'})\n",
    ")\n",
    "\n",
    "# 'About' section\n",
    "def read_aboutSection(section, icon_name):\n",
    "    attribute = {'class': f'octicon octicon-{icon_name} mr-2'}\n",
    "    value = int(section\n",
    "        .find('svg', attrs = attribute)\n",
    "        .find_parent('a')\n",
    "        .find('strong')\n",
    "        .text\n",
    "    )\n",
    "    return value\n",
    "\n",
    "aboutTab = sideBar[0].find('div')\n",
    "stars = read_aboutSection(aboutTab, 'star')\n",
    "watching = read_aboutSection(aboutTab, 'eye')\n",
    "forks = read_aboutSection(aboutTab, 'repo-forked')\n",
    "about_df = {\n",
    "    'Stars': stars\n",
    "    ,'Watching': watching\n",
    "    ,'Forks': forks\n",
    "}\n",
    "\n",
    "languages = sideBar[4].find('ul')\n",
    "languages = [[span.text for span in lang.find_all('span')] for lang in languages.find_all('li')]\n",
    "language_df = {\n",
    "    'Languages': [name for name, _ in languages],\n",
    "    '% Used': [cent for _, cent in languages]\n",
    "}\n",
    "\n"
   ]
  },
  {
   "cell_type": "code",
   "execution_count": 184,
   "metadata": {},
   "outputs": [],
   "source": [
    "# Testing with different project\n",
    "sideBar = (\n",
    "    soups[2]\n",
    "        .find('div', attrs = {'class', 'Layout-sidebar'})\n",
    "        .find_all('div', attrs = {'class', 'BorderGrid-cell'})\n",
    ")\n",
    "\n",
    "releases = sideBar[1]\n",
    "# Shortcut for now while there are no releases\n",
    "releaseText = releases.find('div').text\n",
    "\n",
    "if releaseText == 'No releases published':\n",
    "    releaseCount = 0\n",
    "else:\n",
    "    releaseCount = int(releaseText)"
   ]
  },
  {
   "cell_type": "code",
   "execution_count": 185,
   "metadata": {},
   "outputs": [
    {
     "data": {
      "text/plain": [
       "0"
      ]
     },
     "execution_count": 185,
     "metadata": {},
     "output_type": "execute_result"
    }
   ],
   "source": [
    "releaseCount"
   ]
  },
  {
   "cell_type": "code",
   "execution_count": null,
   "metadata": {},
   "outputs": [],
   "source": []
  }
 ],
 "metadata": {
  "kernelspec": {
   "display_name": "base",
   "language": "python",
   "name": "python3"
  },
  "language_info": {
   "codemirror_mode": {
    "name": "ipython",
    "version": 3
   },
   "file_extension": ".py",
   "mimetype": "text/x-python",
   "name": "python",
   "nbconvert_exporter": "python",
   "pygments_lexer": "ipython3",
   "version": "3.12.2"
  }
 },
 "nbformat": 4,
 "nbformat_minor": 2
}
